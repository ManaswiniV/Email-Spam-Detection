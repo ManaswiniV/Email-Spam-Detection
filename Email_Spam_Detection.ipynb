{
  "cells": [
    {
      "cell_type": "markdown",
      "metadata": {
        "id": "EKuL6dtngZOe"
      },
      "source": [
        "<div align = \"right\"><i>Manaswini, Feb - 2025</i></div>\n",
        "\n",
        "# **Email Spam Detection** - Using Machine Learning Algorithms\n",
        "\n",
        "**Abstract**:\n",
        "\n",
        "Email spam is a growing issue due to more people using the internet. Spammers send fake emails for fraud, phishing, and spreading harmful links. They create fake profiles and trick people who are not aware of such scams.\n",
        "\n",
        "To solve this, we can use machine learning to detect spam emails. Different algorithms will be tested, and the best one will be chosen based on few evaluation metrics. This helps keep email users safe from scams and fraud.\n"
      ]
    },
    {
      "cell_type": "markdown",
      "metadata": {
        "id": "kZOHt10jmRb3"
      },
      "source": [
        "# Import Libraries"
      ]
    },
    {
      "cell_type": "code",
      "execution_count": 19,
      "metadata": {
        "id": "88ZLLaBllktO"
      },
      "outputs": [],
      "source": [
        "import sys\n",
        "import re\n",
        "import pandas as pd\n",
        "import numpy as np\n",
        "import string\n",
        "from collections import Counter, defaultdict\n",
        "from wordcloud import STOPWORDS\n",
        "import matplotlib.pyplot as plt\n",
        "from imblearn.over_sampling import SMOTE\n",
        "import warnings\n",
        "warnings.filterwarnings('ignore')"
      ]
    },
    {
      "cell_type": "markdown",
      "metadata": {
        "id": "cphQ0saciy1q"
      },
      "source": [
        "# Understanding the Dataset\n",
        "\n",
        "The dataset has two columns:\n",
        "1. **Message**: This column contains the text of the email.\n",
        "2. **Label**: This column shows whether the message is \"spam\" (unwanted email) or \"ham\" (regular email)."
      ]
    },
    {
      "cell_type": "markdown",
      "metadata": {
        "id": "0deSSMwjnhnZ"
      },
      "source": [
        "## Data Loading\n"
      ]
    },
    {
      "cell_type": "code",
      "execution_count": 20,
      "metadata": {
        "id": "b8L6-TEGnf1a"
      },
      "outputs": [],
      "source": [
        "data = pd.read_csv(\"training_data.csv\", encoding = \"ISO-8859-1\") # Training Data"
      ]
    },
    {
      "cell_type": "markdown",
      "metadata": {
        "id": "VGcxHUW9olC3"
      },
      "source": [
        "## Dataset Information"
      ]
    },
    {
      "cell_type": "code",
      "execution_count": 21,
      "metadata": {
        "colab": {
          "base_uri": "https://localhost:8080/"
        },
        "id": "BWWhwoALonvY",
        "outputId": "0164cd8a-c875-4058-e08f-4e292daa41c7"
      },
      "outputs": [
        {
          "name": "stdout",
          "output_type": "stream",
          "text": [
            "<class 'pandas.core.frame.DataFrame'>\n",
            "RangeIndex: 11298 entries, 0 to 11297\n",
            "Data columns (total 2 columns):\n",
            " #   Column   Non-Null Count  Dtype \n",
            "---  ------   --------------  ----- \n",
            " 0   label    11298 non-null  object\n",
            " 1   message  11298 non-null  object\n",
            "dtypes: object(2)\n",
            "memory usage: 176.7+ KB\n"
          ]
        }
      ],
      "source": [
        "data.info()"
      ]
    },
    {
      "cell_type": "markdown",
      "metadata": {
        "id": "6ofmqNc4puUX"
      },
      "source": [
        "## Missing Values / Null Values"
      ]
    },
    {
      "cell_type": "code",
      "execution_count": 22,
      "metadata": {
        "colab": {
          "base_uri": "https://localhost:8080/",
          "height": 146
        },
        "id": "iLeZf0d1ovr-",
        "outputId": "1f1d78f3-4b61-4fa0-c531-37e9ae0b713f"
      },
      "outputs": [
        {
          "data": {
            "text/plain": [
              "label      0\n",
              "message    0\n",
              "dtype: int64"
            ]
          },
          "execution_count": 22,
          "metadata": {},
          "output_type": "execute_result"
        }
      ],
      "source": [
        "data.isnull().sum()"
      ]
    },
    {
      "cell_type": "markdown",
      "metadata": {
        "id": "u8fQP0NXp9LQ"
      },
      "source": [
        "## Duplicate Values"
      ]
    },
    {
      "cell_type": "code",
      "execution_count": 23,
      "metadata": {
        "colab": {
          "base_uri": "https://localhost:8080/"
        },
        "id": "V22IbN2ip4cU",
        "outputId": "a8bf561a-74e9-41e4-c75c-fae5f96bcd98"
      },
      "outputs": [
        {
          "data": {
            "text/plain": [
              "599"
            ]
          },
          "execution_count": 23,
          "metadata": {},
          "output_type": "execute_result"
        }
      ],
      "source": [
        "data.duplicated().sum()"
      ]
    },
    {
      "cell_type": "markdown",
      "metadata": {
        "id": "mXlBVZyjqe3n"
      },
      "source": [
        "**Review on the Dataset**\n",
        "- No Null values in the dataset.\n",
        "- The dataset has 11298 entries, out of which 599 are repeated entries (it implies 11298 - 599 = 10699 unique entries)."
      ]
    },
    {
      "cell_type": "markdown",
      "metadata": {
        "id": "MoWrZiForan7"
      },
      "source": [
        "# Data Preprocessing"
      ]
    },
    {
      "cell_type": "code",
      "execution_count": 24,
      "metadata": {
        "id": "Z1kKWhzgB5FY"
      },
      "outputs": [],
      "source": [
        "data.drop_duplicates(inplace = True) # Removal of Duplicate Entries"
      ]
    },
    {
      "cell_type": "code",
      "execution_count": 25,
      "metadata": {
        "id": "46Oe5Y_ysIZy"
      },
      "outputs": [],
      "source": [
        "# Create a binary 'spam' column: 1 for label == 'spam' else 0\n",
        "data['spam'] = data['label'].apply(lambda x: 1 if x == 'spam' else 0)"
      ]
    },
    {
      "cell_type": "code",
      "execution_count": 26,
      "metadata": {
        "colab": {
          "base_uri": "https://localhost:8080/",
          "height": 206
        },
        "id": "5Eot_FYFqC2E",
        "outputId": "3552ab9a-f219-4d1a-e2fb-e49f002bea27"
      },
      "outputs": [
        {
          "data": {
            "text/html": [
              "<div>\n",
              "<style scoped>\n",
              "    .dataframe tbody tr th:only-of-type {\n",
              "        vertical-align: middle;\n",
              "    }\n",
              "\n",
              "    .dataframe tbody tr th {\n",
              "        vertical-align: top;\n",
              "    }\n",
              "\n",
              "    .dataframe thead th {\n",
              "        text-align: right;\n",
              "    }\n",
              "</style>\n",
              "<table border=\"1\" class=\"dataframe\">\n",
              "  <thead>\n",
              "    <tr style=\"text-align: right;\">\n",
              "      <th></th>\n",
              "      <th>label</th>\n",
              "      <th>message</th>\n",
              "      <th>spam</th>\n",
              "    </tr>\n",
              "  </thead>\n",
              "  <tbody>\n",
              "    <tr>\n",
              "      <th>0</th>\n",
              "      <td>ham</td>\n",
              "      <td>re : a friend of mine vince , thank you very m...</td>\n",
              "      <td>0</td>\n",
              "    </tr>\n",
              "    <tr>\n",
              "      <th>1</th>\n",
              "      <td>ham</td>\n",
              "      <td>thank you dear dr . kaminsky : i want to thank...</td>\n",
              "      <td>0</td>\n",
              "    </tr>\n",
              "    <tr>\n",
              "      <th>2</th>\n",
              "      <td>ham</td>\n",
              "      <td>flat screens hello , we are still in need of f...</td>\n",
              "      <td>0</td>\n",
              "    </tr>\n",
              "    <tr>\n",
              "      <th>3</th>\n",
              "      <td>ham</td>\n",
              "      <td>Hello. They are going to the village pub at 8 ...</td>\n",
              "      <td>0</td>\n",
              "    </tr>\n",
              "    <tr>\n",
              "      <th>4</th>\n",
              "      <td>ham</td>\n",
              "      <td>Are we doing the norm tomorrow? I finish just ...</td>\n",
              "      <td>0</td>\n",
              "    </tr>\n",
              "  </tbody>\n",
              "</table>\n",
              "</div>"
            ],
            "text/plain": [
              "  label                                            message  spam\n",
              "0   ham  re : a friend of mine vince , thank you very m...     0\n",
              "1   ham  thank you dear dr . kaminsky : i want to thank...     0\n",
              "2   ham  flat screens hello , we are still in need of f...     0\n",
              "3   ham  Hello. They are going to the village pub at 8 ...     0\n",
              "4   ham  Are we doing the norm tomorrow? I finish just ...     0"
            ]
          },
          "execution_count": 26,
          "metadata": {},
          "output_type": "execute_result"
        }
      ],
      "source": [
        "data.head()"
      ]
    },
    {
      "cell_type": "markdown",
      "metadata": {
        "id": "5U9h06XMtsGR"
      },
      "source": [
        "# Data Visualization"
      ]
    },
    {
      "cell_type": "markdown",
      "metadata": {
        "id": "vNXv__BGwYdp"
      },
      "source": [
        "## Distribution of Spam and Ham Messages"
      ]
    },
    {
      "cell_type": "code",
      "execution_count": 27,
      "metadata": {
        "colab": {
          "base_uri": "https://localhost:8080/",
          "height": 410
        },
        "id": "WmBYAjJ0sdBb",
        "outputId": "a1aff919-34a9-468c-87bf-238abc4fd44a"
      },
      "outputs": [
        {
          "data": {
            "image/png": "[encoded data removed]",
            "text/plain": [
              "<Figure size 400x400 with 1 Axes>"
            ]
          },
          "metadata": {},
          "output_type": "display_data"
        }
      ],
      "source": [
        "counts = data['label'].value_counts()\n",
        "plt.figure(figsize=(4, 4))\n",
        "plt.bar(counts.index, counts.values)\n",
        "plt.xlabel('Label')\n",
        "plt.ylabel('Count')\n",
        "plt.title('Distribution of Spam Vs Ham')\n",
        "plt.show()"
      ]
    },
    {
      "cell_type": "code",
      "execution_count": 28,
      "metadata": {
        "colab": {
          "base_uri": "https://localhost:8080/"
        },
        "id": "0BUnJHZOuC3o",
        "outputId": "e171228c-0768-4652-fc02-81e76a6851d8"
      },
      "outputs": [
        {
          "name": "stdout",
          "output_type": "stream",
          "text": [
            "Percentage of Spam Emails: 18.88 %\n",
            "Percentage of Ham Emails: 81.12 %\n"
          ]
        }
      ],
      "source": [
        "print(\"Percentage of Spam Emails:\", round(counts[1] / len(data) * 100, 2), \"%\")\n",
        "print(\"Percentage of Ham Emails:\", round(counts[0] / len(data) * 100, 2), \"%\")"
      ]
    },
    {
      "cell_type": "markdown",
      "metadata": {
        "id": "e7MqQRKRwe_g"
      },
      "source": [
        "## Most Used Words in Spam Messages"
      ]
    },
    {
      "cell_type": "code",
      "execution_count": 29,
      "metadata": {
        "colab": {
          "base_uri": "https://localhost:8080/",
          "height": 458
        },
        "id": "1DPo7b5DvBe_",
        "outputId": "181fd662-ca1d-4ff1-f929-78e01f1c4c34"
      },
      "outputs": [
        {
          "data": {
            "text/plain": [
              "7        undelivered mail returned to sender this is th...\n",
              "10       Santa Calling! Would your little ones like a c...\n",
              "14       Someone U know has asked our dating service 2 ...\n",
              "17       how about obtaining a fully recognized univers...\n",
              "27       HOT LIVE FANTASIES call now 08707509020 Just 2...\n",
              "                               ...                        \n",
              "11274    all star break special : get a flag to support...\n",
              "11278    the big unit i ' ve been using your product fo...\n",
              "11288    here ' s a hot play in motion homeland securit...\n",
              "11291    neugierig ? - - - - 870879228701464 content - ...\n",
              "11292    logo , stationer , website design and so much ...\n",
              "Name: message, Length: 2020, dtype: object"
            ]
          },
          "execution_count": 29,
          "metadata": {},
          "output_type": "execute_result"
        }
      ],
      "source": [
        "spam_messages = data[data['spam'] == 1]['message'].copy()\n",
        "spam_messages"
      ]
    },
    {
      "cell_type": "code",
      "execution_count": 30,
      "metadata": {
        "id": "mAAhZ_mGw3OT"
      },
      "outputs": [],
      "source": [
        "# Clean Messages\n",
        "def clean_text(text):\n",
        "  text = text.lower().translate(str.maketrans('', '', string.punctuation))\n",
        "  text = re.sub(r'\\b\\w{1,2}\\b', '', text)\n",
        "  text = re.sub(r'\\d+', '', text)\n",
        "  stop_words = list(set(STOPWORDS))\n",
        "  return [word for word in text.split() if word not in stop_words]"
      ]
    },
    {
      "cell_type": "markdown",
      "metadata": {
        "id": "AWk2upo-hql-"
      },
      "source": [
        "**Stop Words**: These are the words that do not add much meaning to a sentence. They can be ignored safely in analyzing a sentence."
      ]
    },
    {
      "cell_type": "code",
      "execution_count": 31,
      "metadata": {
        "id": "Dnne52_b6urC"
      },
      "outputs": [],
      "source": [
        "all_words = []\n",
        "for msg in spam_messages:\n",
        "  all_words.extend(clean_text(msg))\n",
        "word_counts = Counter(all_words).most_common(30)\n",
        "words, count = zip(*word_counts)"
      ]
    },
    {
      "cell_type": "code",
      "execution_count": 32,
      "metadata": {
        "colab": {
          "base_uri": "https://localhost:8080/",
          "height": 553
        },
        "id": "gJKvkw1YzPcv",
        "outputId": "41ab982d-8349-4e30-fe6e-83230c9fbda2"
      },
      "outputs": [
        {
          "data": {
            "image/png": "[encoded data removed]",
            "text/plain": [
              "<Figure size 1200x500 with 1 Axes>"
            ]
          },
          "metadata": {},
          "output_type": "display_data"
        }
      ],
      "source": [
        "plt.figure(figsize=(12, 5))\n",
        "plt.plot(words, count, marker = 'o', color = 'r', ms = 4)\n",
        "plt.title(\"Most Frequent Words in Spam Messages (Excluding Stopwords)\")\n",
        "plt.xlabel(\"Words\")\n",
        "plt.ylabel(\"Count\")\n",
        "plt.xticks(rotation = 90)\n",
        "plt.grid(True, linestyle='--', alpha = 0.5)\n",
        "plt.show()"
      ]
    },
    {
      "cell_type": "markdown",
      "metadata": {
        "id": "79PxOxBWiOZ2"
      },
      "source": [
        "- The above chart shows the most frequent words used in spam mails."
      ]
    },
    {
      "cell_type": "markdown",
      "metadata": {
        "id": "JzfDZMhb5-Bs"
      },
      "source": [
        "# Data Splitting\n",
        "\n",
        "- It is necessary to test the model perfomance.\n",
        "\n",
        "- Split the entire data into Training Data and Testing Data in the ratio 7:3."
      ]
    },
    {
      "cell_type": "code",
      "execution_count": 33,
      "metadata": {
        "id": "5OGi52Ahzvfb"
      },
      "outputs": [],
      "source": [
        "def split_data(data, test_size = 0.3, random_seed = None):\n",
        "  if random_seed:\n",
        "    np.random.seed(random_seed)\n",
        "  data = data.to_numpy()\n",
        "  np.random.shuffle(data)\n",
        "  split_index = int(len(data) * (1 - test_size))\n",
        "  return data[:split_index], data[split_index:]\n",
        "\n",
        "data.drop(['label'], axis = 1, inplace = True)\n",
        "train_data, test_data = split_data(data, test_size = 0.3, random_seed = 42)\n",
        "X_train, y_train = train_data[:, 0], train_data[:, 1]\n",
        "X_test, y_test = test_data[:, 0], test_data[:, 1]"
      ]
    },
    {
      "cell_type": "markdown",
      "metadata": {
        "id": "0JHw-rEr9Bcs"
      },
      "source": [
        "# Import Model Evaluation Functions"
      ]
    },
    {
      "cell_type": "code",
      "execution_count": 34,
      "metadata": {
        "id": "a1-8i3zZ6pwB"
      },
      "outputs": [],
      "source": [
        "from evaluation_utils import metrics, plot_cm, print_report, evaluate_model"
      ]
    },
    {
      "cell_type": "markdown",
      "metadata": {
        "id": "xKXAeEjWCiSE"
      },
      "source": [
        "# Model Implementation\n",
        "\n",
        "Few Classification Models are:\n",
        "\n",
        "- Multinomial Naive-Bayes Classifier\n",
        "- Support Vector Classifier\n",
        "- K-Nearest Neighbor Classifier\n",
        "\n"
      ]
    },
    {
      "cell_type": "markdown",
      "metadata": {
        "id": "aFIdgczJMVoG"
      },
      "source": [
        "## Text Preprocessing\n",
        "\n",
        "Preprocessing includes eliminating unnecessary elements like numbers, short words (single and double letters), and stop words.\n",
        "\n",
        "- *All messages in the training set are preprocessed before being used to train the model.*."
      ]
    },
    {
      "cell_type": "markdown",
      "metadata": {
        "id": "HETjDea6D-kK"
      },
      "source": [
        "## Multinomial Naive-Bayes Classifier\n",
        "\n",
        "**Model Parameters**: $\\alpha$ - Smoothing Parameter (which helps handle words that have never appeared in the training set)\n",
        "- $\\alpha = 1$: Laplace Smoothing (default)\n",
        "- $\\alpha < 1$: Lidstone Smoothing\n",
        "\n",
        "The key idea behind this classifier is based on Bayes Theorem with the assumption that the features (words) are conditionally independent given the class label.\n",
        "\n",
        "---\n",
        "\n",
        "**Bayes Theorem**\n",
        "\n",
        "It provides a way to calculate posterior probability $P(y = c \\ | \\ X)$ of a class given the words $X$ of the message.\n",
        "\n",
        "$$\n",
        "P(y = c \\ | \\ X) = \\frac{P(X \\ | \\ y = c) P(y = c)}{P(X)}\n",
        "$$\n",
        "\n",
        "where,\n",
        "\n",
        "- $P(X \\ | \\ y = c)$ is the likelihood of observing the words $X$ given class $c$.\n",
        "- $P(y = c)$ is the prior probability of class $c$.\n",
        "- $P(X)$ is the marginal likelihood of observing $X$, which is a constant for all classes in classification task.\n",
        "\n",
        "---\n",
        "\n",
        "**Tables**: In the perspective of Binomial Classification\n",
        "\n",
        "Class: $0$ - Ham Mail, $1$ - Spam Mail\n",
        "\n",
        "Vocabulary is a set of all unique words (after text preprocessing) from the training set.\n",
        "\n",
        "Let $w_1, w_2, ... w_n$ be the words in the vocabulary, $n$ is the size of the vocabulary.\n",
        "\n",
        "$$\n",
        "\\text{Vocabulary} = (w_1, w_2, ... w_n)\n",
        "$$\n",
        "\n",
        "<u>Class Prior Probabilities Table</u> (`class_priors`)\n",
        "\n",
        "| Class | Probability |\n",
        "|:-:|:-:|\n",
        "| $0$ | $P(y = 0)$ |\n",
        "| $1$ | $P(y = 1)$ |\n",
        "\n",
        "- $P(y = 0) = \\frac{\\text{Number of Ham Mails}}{\\text{Total Mails}}, \\ P(y = 1) = \\frac{\\text{Number of Spam Mails}}{\\text{Total Mails}}$\n",
        "\n",
        "<u>Word Occurences Table</u> (`class_word_counts`)\n",
        "\n",
        "| Class/Vocabulary | $w_1$ | $w_2$ | ...... | $w_n$ |\n",
        "|:---:|:---:|:---:|:---:|:---:|\n",
        "| $0$ | $N_{01}$ | $N_{02}$ | ...... | $N_{0n}$ |\n",
        "| $1$ | $N_{11}$ | $N_{12}$ | ...... | $N_{1n}$ |\n",
        "\n",
        "The above tables were filled during the training phase of the model based on the training set.\n",
        "\n",
        "---\n",
        "\n",
        "**Calculation of $P(X \\ | \\ y = c)$**\n",
        "\n",
        "Let $x_1, x_2, .. x_m$ are the words (after text preprocessing) in a message. The vector $X$ denotes the set of all these words.\n",
        "\n",
        "$$\n",
        "P(X \\ | \\ y = c) = P(x_1, x_2, ... x_m \\ | \\ y = c) = \\prod_{i=1}^{m} P(x_i \\ | \\ y = c)\n",
        "$$\n",
        "\n",
        "where,\n",
        "\n",
        "- $P(x_i \\ | \\ y = c)$ is the probability of observing the word $x_i$ given class $c$.\n",
        "\n",
        "---\n",
        "\n",
        "**Word Likelihood $P(x_i \\ | \\ y = c)$**: Multinomial Assumption\n",
        "\n",
        "For a given class $c$, the probability of observing a word $x_i$ is estimated as:\n",
        "\n",
        "If the word $x_i$ in the message is same as the word $w_j$ in vocabulary set,\n",
        "\n",
        "$$\n",
        "P(x_i \\ | \\ y = c) = \\frac{N_{cj} + \\alpha}{N_c + n\\alpha}, \\ N_c = \\sum_{k=1}^{n} N_{ck}\n",
        "$$\n",
        "\n",
        "where,\n",
        "\n",
        "- $N_{cj}$ is the word count of word $w_j$ in class $c$.\n",
        "- $N_c$ is the total word count in class $c$.\n",
        "\n",
        "Thus, the posterior probability $P(y = c \\ | \\ X)$ is proportional to $P(y = c)P(x_1, x_2, ... x_m \\ | \\ y = c)$.\n",
        "\n",
        "---\n",
        "\n",
        "**Prediction**\n",
        "\n",
        "For a given message $M$, the class with the highest posterior probability will be considered as the prediction.\n",
        "\n",
        "if $P(y = 0 \\ | \\ M) > P(y = 1 \\ | \\ M)$: $M$ is classified as Ham; else: $M$ is classified as Spam"
      ]
    },
    {
      "cell_type": "code",
      "execution_count": 35,
      "metadata": {
        "id": "GJK6zAGABpw8"
      },
      "outputs": [],
      "source": [
        "from models.multinomial_nb import Multinomial_NB_Classifier"
      ]
    },
    {
      "cell_type": "markdown",
      "metadata": {
        "id": "vZebMOAlVosg"
      },
      "source": [
        "## Support Vector Classifier\n",
        "\n",
        "**Model Parameters**: $\\eta$ - Learning Rate, $\\gamma$ - Number of Epochs\n",
        "\n",
        "The implementation is based on a linear classifier that employs a basic version of the Perceptron learning algorithm to adjust its weights and bias through iterative updates during training.\n",
        "\n",
        "Vocabulary is a set of all unique words (after text preprocessing) from the training set.\n",
        "\n",
        "Let $w_1, w_2, ... w_n$ be the words in the vocabulary, $n$ is the size of the vocabulary.\n",
        "\n",
        "$$\n",
        "\\text{Vocabulary} = (w_1, w_2, ... w_n)\n",
        "$$\n",
        "\n",
        "---\n",
        "\n",
        "**Tokenization**\n",
        "\n",
        "Let $X$ be a message with unique words (after text preprocessing) $x_1, x_2, ... x_m$, $f(x_i)$ denotes the frequency of the word $x_i$ in the message $X$.\n",
        "\n",
        "$i_1, i_2, ... i_m$ denotes the corresponding indices of the words $x_1, x_2, ... x_m$ in the vocabulary. $i_k$ for $k = 1, 2, ... m$ is said to be valid if $x_k$ is present in vocabulary.\n",
        "\n",
        "Let $X_{vec}$ be the corresponding transformed vector of the message $X$. The elements in the $X_{vec}$ follows:\n",
        "\n",
        "$$\n",
        "X_{vec}[\\ j\\ ] = \\begin{cases}\n",
        "f(x_k) & \\text{if} \\ i_k \\ \\text{is valid and } x_k = w_j\\\\\n",
        "0 & \\text{otherwise}   \n",
        "\\end{cases};\\ \\text{for} \\ j = 1, 2, ... n\n",
        "$$\n",
        "\n",
        "---\n",
        "\n",
        "**Linear Model**\n",
        "\n",
        "The classifier assigns a weight to each word in the vocabulary, represented by a weight vector:\n",
        "\n",
        "$$\n",
        "\\text{Weight Vector } (W) = (a_1, a_2, ... a_n)^T\n",
        "$$\n",
        "\n",
        "Linear model computes the weighted sum of features plus bias term:\n",
        "\n",
        "$$\n",
        "Z = X_{vec} \\cdot W + b = \\sum_{j=1}^{n} X_{vec}[ \\ j\\ ] \\cdot a_j + b\n",
        "$$\n",
        "\n",
        "where,\n",
        "\n",
        "- $b$ is the bias term.\n",
        "- $Z$ is the linear output of the message $X$.\n",
        "\n",
        "---\n",
        "\n",
        "**Prediction**\n",
        "\n",
        "The predicted label $\\hat{y}$ is determined by the sign of linear output:\n",
        "\n",
        "$$\n",
        "\\hat{y} = \\begin{cases}\n",
        "1 & Z \\geq 0 \\\\\n",
        "0 & Z < 0\n",
        "\\end{cases}\n",
        "$$\n",
        "\n",
        "---\n",
        "\n",
        "**Weights and Bias Update Rule** (During Training)\n",
        "\n",
        "The model updates weights and bias using a simple Perceptron-like update:\n",
        "\n",
        "$$\n",
        "\\text{update } = \\eta \\cdot (y - \\hat{y})\n",
        "$$\n",
        "\n",
        "where,\n",
        "\n",
        "- $y$ is the true label.\n",
        "\n",
        "The weight and bias updates are:\n",
        "\n",
        "$$\n",
        "a_k \\leftarrow a_k + \\text{update} \\cdot x_k \\ ; \\ \\text{for } k = 1, 2, ... n \\\\\n",
        "b \\leftarrow b + \\text{update}\n",
        "$$\n",
        "\n",
        "In simpler terms, if the prediction is correct, nothing changes. If the prediction is wrong, the model adjusts the weights and bias in a way that moves the decision boundary closer to the correct classification."
      ]
    },
    {
      "cell_type": "code",
      "execution_count": 36,
      "metadata": {
        "collapsed": true,
        "id": "MzSpyPc0Jypm"
      },
      "outputs": [],
      "source": [
        "from models.svc import Support_Vector_Classifier"
      ]
    },
    {
      "cell_type": "markdown",
      "metadata": {
        "id": "NTt_SBs05_Zs"
      },
      "source": [
        "## K-Nearest Neighbor Classifier\n",
        "\n",
        "**Model Parameters**: $k$ - Number of nearest neighbors to determine the output.\n",
        "\n",
        "The KNN classifier predicts the label of a new text sample by finding the\n",
        "$k$ nearest training samples based on Manhattan distance and selecting the most common label among them.\n",
        "\n",
        "---\n",
        "\n",
        "*The terminology related to vocabulary and tokenization are consistent with those described in the Support Vector Classifier*.\n",
        "\n",
        "---\n",
        "\n",
        "**Prediction**\n",
        "\n",
        "Let $N$ be a new message sample, $X$ be the training set.\n",
        "\n",
        "$N_{vec}$ represents the transformed vector of the message $N$, $X_{vec}$ represents the transformed matrix of the training set $X$.\n",
        "\n",
        "$$\n",
        "X_{vec} = \\ (X_1, X_2, ... X_n) \\ ; n \\ \\text{is the number of messages in }X\n",
        "$$\n",
        "\n",
        "where,\n",
        "\n",
        "- $X_i$ is the transformed vector of the $i^{th}$ message in $X$.\n",
        "\n",
        "The model calculates the distances between the vector representation of the new message $N_{vec}$ and all training message vectors $X_i$. It then selects the $k$ closest messages based on these distances. The most common label among these $k$ nearest messages is assigned as the predicted label for the new message $N$."
      ]
    },
    {
      "cell_type": "code",
      "execution_count": 37,
      "metadata": {
        "id": "jQs0nRgJzSPk"
      },
      "outputs": [],
      "source": [
        "from models.knn import KNN_Classifier"
      ]
    },
    {
      "cell_type": "markdown",
      "metadata": {
        "id": "cRsBIsJlYXjm"
      },
      "source": [
        "# Model Testing"
      ]
    },
    {
      "cell_type": "code",
      "execution_count": 38,
      "metadata": {
        "colab": {
          "base_uri": "https://localhost:8080/"
        },
        "id": "7iTDOfYnYXG7",
        "outputId": "c625af7d-4db7-4820-fabe-d668f2fc67a9"
      },
      "outputs": [
        {
          "name": "stdout",
          "output_type": "stream",
          "text": [
            "Training...\n",
            "[##################################################] 100%\n",
            "Predicting...\n",
            "[##################################################] 100%\n",
            "Predicting...\n",
            "[##################################################] 100%\n",
            "Training...\n",
            "[##################################################] 100%\n",
            "Predicting...\n",
            "[##################################################] 100%\n",
            "Predicting...\n",
            "[##################################################] 100%\n",
            "Training...\n",
            "[##################################################] 100%\n",
            "Predicting...\n",
            "[##################################################] 100%\n",
            "Predicting...\n",
            "[##################################################] 100%\n",
            "Training...\n",
            "[##################################################] 100%\n",
            "Predicting...\n",
            "[##################################################] 100%\n",
            "Predicting...\n",
            "[##################################################] 100%\n",
            "Training...\n",
            "[##################################################] 100%\n",
            "Predicting...\n",
            "[##################################################] 100%\n",
            "Predicting...\n",
            "[##################################################] 100%\n"
          ]
        }
      ],
      "source": [
        "m1_accuracies, m1_precisions, m1_recalls = [[], []], [[], []], [[], []]\n",
        "alphas = [0, 0.25, 0.5, 0.75, 1]\n",
        "for alpha in alphas:\n",
        "  train_apr, test_apr = evaluate_model(Multinomial_NB_Classifier(alpha = alpha), X_train, X_test, y_train, y_test)\n",
        "  m1_accuracies[0].append(train_apr[0]), m1_accuracies[1].append(test_apr[0])\n",
        "  m1_precisions[0].append(train_apr[1]), m1_precisions[1].append(test_apr[1])\n",
        "  m1_recalls[0].append(train_apr[2]), m1_recalls[1].append(test_apr[2])"
      ]
    },
    {
      "cell_type": "code",
      "execution_count": 39,
      "metadata": {
        "colab": {
          "base_uri": "https://localhost:8080/",
          "height": 315
        },
        "id": "NcwRWjz6Obmu",
        "outputId": "127f8cea-67d3-454b-9b9e-fe84b8945965"
      },
      "outputs": [
        {
          "data": {
            "image/png": "[encoded data removed]",
            "text/plain": [
              "<Figure size 1200x300 with 3 Axes>"
            ]
          },
          "metadata": {},
          "output_type": "display_data"
        }
      ],
      "source": [
        "%matplotlib inline\n",
        "\n",
        "plt.figure(figsize = (12, 3))\n",
        "plt.subplot(1, 3, 1)\n",
        "plt.plot(alphas, m1_accuracies[0], label = 'Train Accuracy', color = 'r')\n",
        "plt.plot(alphas, m1_accuracies[1], label = 'Test Accuracy', color = 'g')\n",
        "plt.xlabel(r\"$\\alpha$\")\n",
        "plt.legend()\n",
        "plt.subplot(1, 3, 2)\n",
        "plt.plot(alphas, m1_precisions[0], label = 'Train Precision', color = 'r')\n",
        "plt.plot(alphas, m1_precisions[1], label = 'Test Precision', color = 'g')\n",
        "plt.xlabel(r\"$\\alpha$\")\n",
        "plt.legend()\n",
        "plt.subplot(1, 3, 3)\n",
        "plt.plot(alphas, m1_recalls[0], label = 'Train Recall', color = 'r')\n",
        "plt.plot(alphas, m1_recalls[1], label = 'Test Recall', color = 'g')\n",
        "plt.xlabel(r\"$\\alpha$\")\n",
        "plt.legend()\n",
        "plt.show()"
      ]
    },
    {
      "cell_type": "markdown",
      "metadata": {
        "id": "QYGOzr2KX6Ho"
      },
      "source": [
        "> Based on the results, $\\alpha$ values of 0.25 and 1 are appropriate smoothing parameters for prediction."
      ]
    },
    {
      "cell_type": "code",
      "execution_count": 40,
      "metadata": {
        "colab": {
          "base_uri": "https://localhost:8080/"
        },
        "id": "jZkkhR0xYhi-",
        "outputId": "26cb12ff-e1a5-4883-cc64-6770a62b21c9"
      },
      "outputs": [
        {
          "name": "stdout",
          "output_type": "stream",
          "text": [
            "Training...\n",
            "[##################################################] 100%\n",
            "Predicting...\n",
            "[##################################################] 100%\n",
            "Predicting...\n",
            "[##################################################] 100%\n",
            "Training...\n",
            "[##################################################] 100%\n",
            "Predicting...\n",
            "[##################################################] 100%\n",
            "Predicting...\n",
            "[##################################################] 100%\n",
            "Training...\n",
            "[##################################################] 100%\n",
            "Predicting...\n",
            "[##################################################] 100%\n",
            "Predicting...\n",
            "[##################################################] 100%\n"
          ]
        }
      ],
      "source": [
        "m2_accuracies, m2_precisions, m2_recalls = [[], []], [[], []], [[], []]\n",
        "lrs = [0.025, 0.05, 0.1]\n",
        "for lr in lrs:\n",
        "  train_apr, test_apr = evaluate_model(Support_Vector_Classifier(learning_rate = lr, epochs = 500), X_train, X_test, y_train, y_test)\n",
        "  m2_accuracies[0].append(train_apr[0]), m2_accuracies[1].append(test_apr[0])\n",
        "  m2_precisions[0].append(train_apr[1]), m2_precisions[1].append(test_apr[1])\n",
        "  m2_recalls[0].append(train_apr[2]), m2_recalls[1].append(test_apr[2])"
      ]
    },
    {
      "cell_type": "code",
      "execution_count": 41,
      "metadata": {
        "colab": {
          "base_uri": "https://localhost:8080/",
          "height": 312
        },
        "id": "tmCLCpmaZq3i",
        "outputId": "51655d97-826a-4742-df09-a0e0895f65de"
      },
      "outputs": [
        {
          "data": {
            "image/png": "[encoded data removed]",
            "text/plain": [
              "<Figure size 1200x300 with 3 Axes>"
            ]
          },
          "metadata": {},
          "output_type": "display_data"
        }
      ],
      "source": [
        "%matplotlib inline\n",
        "\n",
        "plt.figure(figsize = (12, 3))\n",
        "plt.subplot(1, 3, 1)\n",
        "plt.plot(lrs, m2_accuracies[0], label = 'Train Accuracy', color = 'r')\n",
        "plt.plot(lrs, m2_accuracies[1], label = 'Test Accuracy', color = 'g')\n",
        "plt.xlabel(r\"$\\eta$\")\n",
        "plt.legend()\n",
        "plt.subplot(1, 3, 2)\n",
        "plt.plot(lrs, m2_precisions[0], label = 'Train Precision', color = 'r')\n",
        "plt.plot(lrs, m2_precisions[1], label = 'Test Precision', color = 'g')\n",
        "plt.xlabel(r\"$\\eta$\")\n",
        "plt.legend()\n",
        "plt.subplot(1, 3, 3)\n",
        "plt.plot(lrs, m2_recalls[0], label = 'Train Recall', color = 'r')\n",
        "plt.plot(lrs, m2_recalls[1], label = 'Test Recall', color = 'g')\n",
        "plt.xlabel(r\"$\\eta$\")\n",
        "plt.legend()\n",
        "plt.show()"
      ]
    },
    {
      "cell_type": "markdown",
      "metadata": {
        "id": "DA4zOBZ8eocN"
      },
      "source": [
        "> The metrics remain unchanged for different values of $\\eta$, so we will use $\\eta = 0.05$ for making predictions."
      ]
    },
    {
      "cell_type": "code",
      "execution_count": 42,
      "metadata": {
        "colab": {
          "base_uri": "https://localhost:8080/"
        },
        "id": "F5HPhzmt-6bV",
        "outputId": "2b8493cd-a10b-467c-910b-3934946318d8"
      },
      "outputs": [
        {
          "name": "stdout",
          "output_type": "stream",
          "text": [
            "Training...\n",
            "[##################################################] 100%\n",
            "Predicting...\n",
            "[##################################################] 100%\n",
            "Predicting...\n",
            "[##################################################] 100%\n",
            "Training...\n",
            "[##################################################] 100%\n",
            "Predicting...\n",
            "[##################################################] 100%\n",
            "Predicting...\n",
            "[##################################################] 100%\n",
            "Training...\n",
            "[##################################################] 100%\n",
            "Predicting...\n",
            "[##################################################] 100%\n",
            "Predicting...\n",
            "[##################################################] 100%\n",
            "Training...\n",
            "[##################################################] 100%\n",
            "Predicting...\n",
            "[##################################################] 100%\n",
            "Predicting...\n",
            "[##################################################] 100%\n"
          ]
        }
      ],
      "source": [
        "m3_accuracies, m3_precisions, m3_recalls = [[], []], [[], []], [[], []]\n",
        "ks = [1, 3, 5, 7]\n",
        "\n",
        "# Since KNN is a lazy model, therefore, split the datasets in certain ratio\n",
        "split_ratio = 5\n",
        "for k in ks:\n",
        "  train_apr, test_apr = evaluate_model(KNN_Classifier(k = k), X_train[::split_ratio], X_test[::4], y_train[::split_ratio], y_test[::4])\n",
        "  m3_accuracies[0].append(train_apr[0]), m3_accuracies[1].append(test_apr[0])\n",
        "  m3_precisions[0].append(train_apr[1]), m3_precisions[1].append(test_apr[1])\n",
        "  m3_recalls[0].append(train_apr[2]), m3_recalls[1].append(test_apr[2])"
      ]
    },
    {
      "cell_type": "code",
      "execution_count": 43,
      "metadata": {
        "colab": {
          "base_uri": "https://localhost:8080/",
          "height": 312
        },
        "id": "qBJW4DOmGpfR",
        "outputId": "d16b3c94-9de6-405e-d2d0-fc93e2e4fb2b"
      },
      "outputs": [
        {
          "data": {
            "image/png": "[encoded data removed]",
            "text/plain": [
              "<Figure size 1200x300 with 3 Axes>"
            ]
          },
          "metadata": {},
          "output_type": "display_data"
        }
      ],
      "source": [
        "%matplotlib inline\n",
        "\n",
        "plt.figure(figsize = (12, 3))\n",
        "plt.subplot(1, 3, 1)\n",
        "plt.plot(ks, m3_accuracies[0], label = 'Train Accuracy', color = 'r')\n",
        "plt.plot(ks, m3_accuracies[1], label = 'Test Accuracy', color = 'g')\n",
        "plt.xlabel(r\"$k$\")\n",
        "plt.legend()\n",
        "plt.subplot(1, 3, 2)\n",
        "plt.plot(ks, m3_precisions[0], label = 'Train Precision', color = 'r')\n",
        "plt.plot(ks, m3_precisions[1], label = 'Test Precision', color = 'g')\n",
        "plt.xlabel(r\"$k$\")\n",
        "plt.legend()\n",
        "plt.subplot(1, 3, 3)\n",
        "plt.plot(ks, m3_recalls[0], label = 'Train Recall', color = 'r')\n",
        "plt.plot(ks, m3_recalls[1], label = 'Test Recall', color = 'g')\n",
        "plt.xlabel(r\"$k$\")\n",
        "plt.legend()\n",
        "plt.show()"
      ]
    },
    {
      "cell_type": "markdown",
      "metadata": {
        "id": "M0AOUuBQaIM1"
      },
      "source": [
        "> Based on results, $k = 3$ would be more suitable for making predictions."
      ]
    },
    {
      "cell_type": "markdown",
      "metadata": {
        "id": "NymIbt0dlk9P"
      },
      "source": [
        "# Model Selection and Training\n",
        "\n",
        "According to the model testing results, the **Support Vector Classifier** is the most effective for classifying spam mails, though using a combination of all models could also be considered.\n",
        "\n",
        "For training the model, use the entire `training_data`."
      ]
    },
    {
      "cell_type": "code",
      "execution_count": 44,
      "metadata": {
        "collapsed": true,
        "id": "Kjb3jdaGjLF3"
      },
      "outputs": [],
      "source": [
        "model1 = Multinomial_NB_Classifier(alpha = 0.25)\n",
        "model2 = Support_Vector_Classifier(learning_rate = 0.05, epochs = 500)\n",
        "model3 = KNN_Classifier(k = 3)\n",
        "models = [model1, model2, model3]"
      ]
    },
    {
      "cell_type": "code",
      "execution_count": 45,
      "metadata": {
        "colab": {
          "base_uri": "https://localhost:8080/"
        },
        "id": "7qlCvT5sbGbj",
        "outputId": "43143478-179a-4675-de81-85a20fe3cb51"
      },
      "outputs": [
        {
          "name": "stdout",
          "output_type": "stream",
          "text": [
            "Training Multinomial_NB_Classifier...\n",
            "Training...\n",
            "[##################################################] 100%\n",
            "\n",
            "Training Support_Vector_Classifier...\n",
            "Training...\n",
            "[##################################################] 100%\n",
            "\n",
            "Training KNN_Classifier...\n",
            "Training...\n",
            "[##################################################] 100%\n",
            "\n"
          ]
        }
      ],
      "source": [
        "X_train, y_train = data['message'].to_list(), data['spam'].to_list()\n",
        "for model in models:\n",
        "  print(f\"Training {model.__class__.__name__}...\")\n",
        "  model.fit(X_train, y_train)\n",
        "  print(\"\")"
      ]
    },
    {
      "cell_type": "markdown",
      "metadata": {
        "id": "JVEplrb-nb_o"
      },
      "source": [
        "# Email Spam Detection System"
      ]
    },
    {
      "cell_type": "code",
      "execution_count": 46,
      "metadata": {
        "id": "e6CkR_gWmq8y"
      },
      "outputs": [],
      "source": [
        "def detect_if_spam(model, emails):\n",
        "  return model.predict(emails)"
      ]
    },
    {
      "cell_type": "markdown",
      "metadata": {
        "id": "_WtRlCbWoIq3"
      },
      "source": [
        "# Example Usage"
      ]
    },
    {
      "cell_type": "code",
      "execution_count": 47,
      "metadata": {
        "id": "-Qrj-Y1vAJzs"
      },
      "outputs": [],
      "source": [
        "sample_text1 = '''\n",
        "Congratulations! You’ve Won a Free Gift Card!\n",
        "\n",
        "Dear User,\n",
        "\n",
        "You have been selected as our lucky winner! You’ve won a $1000 Amazon Gift Card. To claim your prize, simply click the link below and provide your details:\n",
        "\n",
        "Claim Your Reward Now\n",
        "\n",
        "Hurry! This offer is valid for the next 24 hours only.\n",
        "'''"
      ]
    },
    {
      "cell_type": "code",
      "execution_count": 48,
      "metadata": {
        "colab": {
          "base_uri": "https://localhost:8080/"
        },
        "id": "tTESoayceYdO",
        "outputId": "9d84d687-5098-4a35-b204-d3a9cbe5b0ff"
      },
      "outputs": [
        {
          "name": "stdout",
          "output_type": "stream",
          "text": [
            "Predicting...\n",
            "[##################################################] 100%\n",
            "Predicting...\n",
            "[##################################################] 100%\n",
            "Predicting...\n",
            "[##################################################] 100%\n"
          ]
        }
      ],
      "source": [
        "m1_pred = model1.predict([sample_text1])\n",
        "m2_pred = model2.predict([sample_text1])\n",
        "m3_pred = model3.predict([sample_text1])"
      ]
    },
    {
      "cell_type": "code",
      "execution_count": 49,
      "metadata": {
        "colab": {
          "base_uri": "https://localhost:8080/"
        },
        "id": "zhDPJtlleeIR",
        "outputId": "b0d500ca-e9da-471f-a656-878f5a9ff45a"
      },
      "outputs": [
        {
          "name": "stdout",
          "output_type": "stream",
          "text": [
            "[1] [1] [0]\n"
          ]
        }
      ],
      "source": [
        "print(m1_pred, m2_pred, m3_pred)"
      ]
    },
    {
      "cell_type": "markdown",
      "metadata": {
        "id": "rJlGpyphepG_"
      },
      "source": [
        "According to the Support Vector Classifier and the combined predictions from all models, the example above is classified as a **Spam Mail**."
      ]
    },
    {
      "cell_type": "code",
      "execution_count": 50,
      "metadata": {
        "id": "Ex-3TZikeh37"
      },
      "outputs": [],
      "source": [
        "sample_text2 = '''\n",
        "Meeting Reminder: Project Update\n",
        "\n",
        "Hi Team,\n",
        "\n",
        "This is a reminder about the project update meeting scheduled for Monday, 10:00 AM in Conference Room A. Please come prepared with your progress reports and any pending action items.\n",
        "\n",
        "Let me know if you have any conflicts or need additional time for your presentations.\n",
        "\n",
        "Looking forward to seeing everyone there!\n",
        "'''"
      ]
    },
    {
      "cell_type": "code",
      "execution_count": 51,
      "metadata": {
        "colab": {
          "base_uri": "https://localhost:8080/"
        },
        "id": "NBaGwKBUfFol",
        "outputId": "e14f3e66-64af-46cd-9fef-96f6f91a5611"
      },
      "outputs": [
        {
          "name": "stdout",
          "output_type": "stream",
          "text": [
            "Predicting...\n",
            "[##################################################] 100%\n",
            "Predicting...\n",
            "[##################################################] 100%\n",
            "Predicting...\n",
            "[##################################################] 100%\n"
          ]
        }
      ],
      "source": [
        "m1_pred = model1.predict([sample_text2])\n",
        "m2_pred = model2.predict([sample_text2])\n",
        "m3_pred = model3.predict([sample_text2])"
      ]
    },
    {
      "cell_type": "code",
      "execution_count": 52,
      "metadata": {
        "colab": {
          "base_uri": "https://localhost:8080/"
        },
        "id": "XEkFq1LefH4T",
        "outputId": "68e506ba-f7d8-43e5-ca9a-9df8dbea4399"
      },
      "outputs": [
        {
          "name": "stdout",
          "output_type": "stream",
          "text": [
            "[0] [0] [0]\n"
          ]
        }
      ],
      "source": [
        "print(m1_pred, m2_pred, m3_pred)"
      ]
    },
    {
      "cell_type": "markdown",
      "metadata": {
        "id": "rCVNdVnefPix"
      },
      "source": [
        "All the models have predicted it as a **Ham Mail**.\n",
        "\n",
        "---"
      ]
    }
  ],
  "metadata": {
    "colab": {
      "provenance": []
    },
    "kernelspec": {
      "display_name": "Python 3",
      "name": "python3"
    },
    "language_info": {
      "codemirror_mode": {
        "name": "ipython",
        "version": 3
      },
      "file_extension": ".py",
      "mimetype": "text/x-python",
      "name": "python",
      "nbconvert_exporter": "python",
      "pygments_lexer": "ipython3",
      "version": "3.11.9"
    }
  },
  "nbformat": 4,
  "nbformat_minor": 0
}
